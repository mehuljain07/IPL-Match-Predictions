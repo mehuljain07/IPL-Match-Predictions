{
 "cells": [
  {
   "cell_type": "code",
   "execution_count": 2,
   "metadata": {},
   "outputs": [],
   "source": [
    "import csv\n",
    "import yaml\n",
    "import glob\n",
    "import os\n",
    "#filenum = 0\n",
    "tot_dict = {}\n",
    "runner = ['batsman','bowler','non_striker','runs']\n",
    "with open('/home/mehul/Downloads/New_BData/ML Data/MLball_by_ball_new.csv','w') as f:\n",
    "    w =csv.DictWriter(f,runner,delimiter = ',',lineterminator = '\\n')\n",
    "    w.writeheader()\n",
    "    for filename in glob.glob('/home/mehul/Downloads/New_BData/profiles/ipl/*.yaml'):\n",
    "     #   filenum = filenum+1\n",
    "        myDict = yaml.load(open(filename))\n",
    "        newDict = myDict[\"innings\"]\n",
    "        score_sheet = {}\n",
    "        for inning in range(len(newDict)):\n",
    "            new=newDict[inning]\n",
    "            for inn_key in new:\n",
    "                deliver = new[inn_key]\n",
    "            deliveries = deliver['deliveries']\n",
    "            for i in deliveries[:]:\n",
    "                for key in i:\n",
    "                    score_sheet['batsman'] = i[key]['batsman']\n",
    "                    score_sheet['bowler'] = i[key]['bowler']\n",
    "                    score_sheet['non_striker'] = i[key]['non_striker']\n",
    "                    if 'wicket' in i[key]:\n",
    "                        score_sheet['wickets'] = 1\n",
    "                    else:\n",
    "                        score_sheet['wickets'] = 0\n",
    "                    score_sheet['runs'] = i[key]['runs']['batsman']\n",
    "                w.writerow(score_sheet)\n",
    "\n"
   ]
  },
  {
   "cell_type": "code",
   "execution_count": 1,
   "metadata": {},
   "outputs": [],
   "source": [
    "import pandas as pd\n",
    "\n",
    "bat_df = pd.read_csv(\"/home/mehul/Downloads/New_BData/ML Data/MLbat_p_c.csv\",header = 0)\n",
    "bowl_df = pd.read_csv(\"/home/mehul/Downloads/New_BData/ML Data/MLbowl_p_c.csv\",header = 0)\n",
    "\n",
    "all_df = pd.read_csv('/home/mehul/Downloads/New_BData/ML Data/MLball_by_ball_new.csv',header = 0)\n",
    "\n",
    "df3 = bat_df[['batsman','Avg','SR','bat_cluster']]\n",
    "df3.columns=['non_striker','Avg','SR','non_str_cluster']\n"
   ]
  },
  {
   "cell_type": "code",
   "execution_count": 2,
   "metadata": {},
   "outputs": [],
   "source": [
    "#df4 = pd.read_csv('ball_by_ball1.csv',header = 0)\n",
    "df5 = all_df.merge(df3,on='non_striker')\n",
    "df6 = df5.merge(bowl_df,on='bowler')\n",
    "#df7 = df6[['cluster_x','cluster_y','non_striker','runs','venue']]\n",
    "df8 = df6.merge(bat_df,on='batsman')"
   ]
  },
  {
   "cell_type": "code",
   "execution_count": 3,
   "metadata": {},
   "outputs": [],
   "source": [
    "df9 = df8[['bat_cluster','Avg','SR','bowl_cluster','Avg_y','SR_y','Econ','non_str_cluster','Avg_x','SR_x','runs','wickets']]"
   ]
  },
  {
   "cell_type": "code",
   "execution_count": 4,
   "metadata": {},
   "outputs": [],
   "source": [
    "df9.columns = ['bat1_cluster','bat1_avg','bat1_SR','bowl_cluster','bowl_avg','bowl_SR','bowl_Econ','bat2_cluster','bat2_avg','bat2_SR','runs','wickets']"
   ]
  },
  {
   "cell_type": "code",
   "execution_count": 5,
   "metadata": {},
   "outputs": [
    {
     "data": {
      "text/html": [
       "<div>\n",
       "<style scoped>\n",
       "    .dataframe tbody tr th:only-of-type {\n",
       "        vertical-align: middle;\n",
       "    }\n",
       "\n",
       "    .dataframe tbody tr th {\n",
       "        vertical-align: top;\n",
       "    }\n",
       "\n",
       "    .dataframe thead th {\n",
       "        text-align: right;\n",
       "    }\n",
       "</style>\n",
       "<table border=\"1\" class=\"dataframe\">\n",
       "  <thead>\n",
       "    <tr style=\"text-align: right;\">\n",
       "      <th></th>\n",
       "      <th>bat1_cluster</th>\n",
       "      <th>bat1_avg</th>\n",
       "      <th>bat1_SR</th>\n",
       "      <th>bowl_cluster</th>\n",
       "      <th>bowl_avg</th>\n",
       "      <th>bowl_SR</th>\n",
       "      <th>bowl_Econ</th>\n",
       "      <th>bat2_cluster</th>\n",
       "      <th>bat2_avg</th>\n",
       "      <th>bat2_SR</th>\n",
       "      <th>runs</th>\n",
       "      <th>wickets</th>\n",
       "    </tr>\n",
       "  </thead>\n",
       "  <tbody>\n",
       "    <tr>\n",
       "      <th>0</th>\n",
       "      <td>5</td>\n",
       "      <td>28.220779</td>\n",
       "      <td>113.118168</td>\n",
       "      <td>2</td>\n",
       "      <td>32.9625</td>\n",
       "      <td>24.6625</td>\n",
       "      <td>8.01926</td>\n",
       "      <td>5</td>\n",
       "      <td>33.571429</td>\n",
       "      <td>117.999228</td>\n",
       "      <td>1</td>\n",
       "      <td>0</td>\n",
       "    </tr>\n",
       "    <tr>\n",
       "      <th>1</th>\n",
       "      <td>5</td>\n",
       "      <td>28.220779</td>\n",
       "      <td>113.118168</td>\n",
       "      <td>2</td>\n",
       "      <td>32.9625</td>\n",
       "      <td>24.6625</td>\n",
       "      <td>8.01926</td>\n",
       "      <td>5</td>\n",
       "      <td>33.571429</td>\n",
       "      <td>117.999228</td>\n",
       "      <td>1</td>\n",
       "      <td>0</td>\n",
       "    </tr>\n",
       "    <tr>\n",
       "      <th>2</th>\n",
       "      <td>5</td>\n",
       "      <td>28.220779</td>\n",
       "      <td>113.118168</td>\n",
       "      <td>2</td>\n",
       "      <td>32.9625</td>\n",
       "      <td>24.6625</td>\n",
       "      <td>8.01926</td>\n",
       "      <td>5</td>\n",
       "      <td>33.571429</td>\n",
       "      <td>117.999228</td>\n",
       "      <td>1</td>\n",
       "      <td>0</td>\n",
       "    </tr>\n",
       "    <tr>\n",
       "      <th>3</th>\n",
       "      <td>5</td>\n",
       "      <td>28.220779</td>\n",
       "      <td>113.118168</td>\n",
       "      <td>2</td>\n",
       "      <td>32.9625</td>\n",
       "      <td>24.6625</td>\n",
       "      <td>8.01926</td>\n",
       "      <td>5</td>\n",
       "      <td>33.571429</td>\n",
       "      <td>117.999228</td>\n",
       "      <td>1</td>\n",
       "      <td>0</td>\n",
       "    </tr>\n",
       "    <tr>\n",
       "      <th>4</th>\n",
       "      <td>5</td>\n",
       "      <td>28.220779</td>\n",
       "      <td>113.118168</td>\n",
       "      <td>2</td>\n",
       "      <td>32.9625</td>\n",
       "      <td>24.6625</td>\n",
       "      <td>8.01926</td>\n",
       "      <td>5</td>\n",
       "      <td>33.571429</td>\n",
       "      <td>117.999228</td>\n",
       "      <td>4</td>\n",
       "      <td>0</td>\n",
       "    </tr>\n",
       "  </tbody>\n",
       "</table>\n",
       "</div>"
      ],
      "text/plain": [
       "   bat1_cluster   bat1_avg     bat1_SR  bowl_cluster  bowl_avg  bowl_SR  \\\n",
       "0             5  28.220779  113.118168             2   32.9625  24.6625   \n",
       "1             5  28.220779  113.118168             2   32.9625  24.6625   \n",
       "2             5  28.220779  113.118168             2   32.9625  24.6625   \n",
       "3             5  28.220779  113.118168             2   32.9625  24.6625   \n",
       "4             5  28.220779  113.118168             2   32.9625  24.6625   \n",
       "\n",
       "   bowl_Econ  bat2_cluster   bat2_avg     bat2_SR  runs  wickets  \n",
       "0    8.01926             5  33.571429  117.999228     1        0  \n",
       "1    8.01926             5  33.571429  117.999228     1        0  \n",
       "2    8.01926             5  33.571429  117.999228     1        0  \n",
       "3    8.01926             5  33.571429  117.999228     1        0  \n",
       "4    8.01926             5  33.571429  117.999228     4        0  "
      ]
     },
     "execution_count": 5,
     "metadata": {},
     "output_type": "execute_result"
    }
   ],
   "source": [
    "df9.head()"
   ]
  },
  {
   "cell_type": "code",
   "execution_count": 6,
   "metadata": {},
   "outputs": [],
   "source": [
    "df9.to_csv(\"ML_mainData_new.csv\",index = False)"
   ]
  },
  {
   "cell_type": "code",
   "execution_count": null,
   "metadata": {},
   "outputs": [],
   "source": []
  },
  {
   "cell_type": "code",
   "execution_count": null,
   "metadata": {},
   "outputs": [],
   "source": []
  },
  {
   "cell_type": "code",
   "execution_count": null,
   "metadata": {},
   "outputs": [],
   "source": []
  },
  {
   "cell_type": "code",
   "execution_count": null,
   "metadata": {},
   "outputs": [],
   "source": []
  },
  {
   "cell_type": "code",
   "execution_count": null,
   "metadata": {},
   "outputs": [],
   "source": []
  },
  {
   "cell_type": "code",
   "execution_count": null,
   "metadata": {},
   "outputs": [],
   "source": []
  },
  {
   "cell_type": "code",
   "execution_count": null,
   "metadata": {},
   "outputs": [],
   "source": []
  },
  {
   "cell_type": "code",
   "execution_count": null,
   "metadata": {},
   "outputs": [],
   "source": []
  },
  {
   "cell_type": "code",
   "execution_count": null,
   "metadata": {},
   "outputs": [],
   "source": []
  }
 ],
 "metadata": {
  "kernelspec": {
   "display_name": "Python 3",
   "language": "python",
   "name": "python3"
  },
  "language_info": {
   "codemirror_mode": {
    "name": "ipython",
    "version": 3
   },
   "file_extension": ".py",
   "mimetype": "text/x-python",
   "name": "python",
   "nbconvert_exporter": "python",
   "pygments_lexer": "ipython3",
   "version": "3.7.0"
  }
 },
 "nbformat": 4,
 "nbformat_minor": 2
}
