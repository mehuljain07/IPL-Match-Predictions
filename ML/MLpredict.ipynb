{
 "cells": [
  {
   "cell_type": "code",
   "execution_count": 2,
   "metadata": {},
   "outputs": [],
   "source": [
    "from pyspark.mllib.tree import DecisionTree, DecisionTreeModel\n",
    "from pyspark import SparkContext\n",
    "runModel = DecisionTreeModel.load(sc, \"run_regressor/tmp/myDecisionTreeClassificationModel\")\n",
    "wktsModel = DecisionTreeModel.load(sc, \"wickets_regressor/tmp/myDecisionTreeClassificationModel\")"
   ]
  },
  {
   "cell_type": "code",
   "execution_count": 36,
   "metadata": {},
   "outputs": [
    {
     "data": {
      "text/html": [
       "<div>\n",
       "<style scoped>\n",
       "    .dataframe tbody tr th:only-of-type {\n",
       "        vertical-align: middle;\n",
       "    }\n",
       "\n",
       "    .dataframe tbody tr th {\n",
       "        vertical-align: top;\n",
       "    }\n",
       "\n",
       "    .dataframe thead th {\n",
       "        text-align: right;\n",
       "    }\n",
       "</style>\n",
       "<table border=\"1\" class=\"dataframe\">\n",
       "  <thead>\n",
       "    <tr style=\"text-align: right;\">\n",
       "      <th></th>\n",
       "      <th>T1 batsman</th>\n",
       "      <th>T1 bowler</th>\n",
       "      <th>T2 batsman</th>\n",
       "      <th>T2 bowler</th>\n",
       "    </tr>\n",
       "  </thead>\n",
       "  <tbody>\n",
       "    <tr>\n",
       "      <th>0</th>\n",
       "      <td>AM Rahane</td>\n",
       "      <td>DS Kulkarni</td>\n",
       "      <td>WP Saha</td>\n",
       "      <td>B Kumar</td>\n",
       "    </tr>\n",
       "    <tr>\n",
       "      <th>1</th>\n",
       "      <td>DJM Short</td>\n",
       "      <td>JD Unadkat</td>\n",
       "      <td>S Dhawan</td>\n",
       "      <td>B Stanlake</td>\n",
       "    </tr>\n",
       "    <tr>\n",
       "      <th>2</th>\n",
       "      <td>SV Samson</td>\n",
       "      <td>S Gopal</td>\n",
       "      <td>KS Williamson</td>\n",
       "      <td>Shakib Al Hasan</td>\n",
       "    </tr>\n",
       "    <tr>\n",
       "      <th>3</th>\n",
       "      <td>BA Stokes</td>\n",
       "      <td>B Laughlin</td>\n",
       "      <td>MK Pandey</td>\n",
       "      <td>S Kaul</td>\n",
       "    </tr>\n",
       "    <tr>\n",
       "      <th>4</th>\n",
       "      <td>RA Tripathi</td>\n",
       "      <td>DJM Short</td>\n",
       "      <td>DJ Hooda</td>\n",
       "      <td>Rashid Khan</td>\n",
       "    </tr>\n",
       "  </tbody>\n",
       "</table>\n",
       "</div>"
      ],
      "text/plain": [
       "    T1 batsman    T1 bowler     T2 batsman        T2 bowler\n",
       "0    AM Rahane  DS Kulkarni        WP Saha          B Kumar\n",
       "1    DJM Short   JD Unadkat       S Dhawan       B Stanlake\n",
       "2    SV Samson      S Gopal  KS Williamson  Shakib Al Hasan\n",
       "3    BA Stokes   B Laughlin      MK Pandey           S Kaul\n",
       "4  RA Tripathi    DJM Short       DJ Hooda      Rashid Khan"
      ]
     },
     "execution_count": 36,
     "metadata": {},
     "output_type": "execute_result"
    }
   ],
   "source": [
    "import pandas as pd\n",
    "import random\n",
    "import csv\n",
    "from numpy import array\n",
    "match_data = pd.read_csv(\"/home/mehul/Downloads/New_BData/matches/match4.csv\")\n",
    "match_data.head()"
   ]
  },
  {
   "cell_type": "code",
   "execution_count": 37,
   "metadata": {},
   "outputs": [],
   "source": [
    "T1_batsman = match_data['T1 batsman']\n",
    "T1_bowler = match_data['T1 bowler']\n",
    "T2_batsman = match_data['T2 batsman']\n",
    "T2_bowler = match_data['T2 bowler']\n"
   ]
  },
  {
   "cell_type": "code",
   "execution_count": 38,
   "metadata": {},
   "outputs": [],
   "source": [
    "scores = [0, 1, 2, 3, 4, 5, 6]"
   ]
  },
  {
   "cell_type": "code",
   "execution_count": 39,
   "metadata": {},
   "outputs": [],
   "source": [
    "#venue = str(input('Input Venue of Match'))"
   ]
  },
  {
   "cell_type": "code",
   "execution_count": 40,
   "metadata": {},
   "outputs": [],
   "source": [
    "def get_cluster(batsman,bowler,non_striker):\n",
    "    bat_cluster_data = pd.read_csv(\"/home/mehul/Downloads/New_BData/ML Data/MLbat_p_c.csv\",header = 0).drop_duplicates()\n",
    "    bowl_cluster_data = pd.read_csv(\"/home/mehul/Downloads/New_BData/ML Data/MLbowl_p_c.csv\",header = 0).drop_duplicates()\n",
    "    debu_bat_cluster_data = pd.read_csv(\"/home/mehul/Downloads/New_BData/ML Data/MLdebu_bat_p_c.csv\",header = 0).drop_duplicates()\n",
    "    debu_bowl_cluster_data = pd.read_csv(\"/home/mehul/Downloads/New_BData/ML Data/MLdebu_bowl_p_c.csv\",header = 0).drop_duplicates()\n",
    "    \n",
    "    bat1_cluster = bat_cluster_data.loc[bat_cluster_data['batsman']==batsman]\n",
    "    if((bat1_cluster.empty)==True):\n",
    "        bat1_cluster = debu_bat_cluster_data.loc[debu_bat_cluster_data['batsman']==batsman]\n",
    "    #print(bat1_cluster)\n",
    "    \n",
    "    \n",
    "    bowl_cluster = bowl_cluster_data.loc[bowl_cluster_data['bowler']==bowler]\n",
    "    if((bowl_cluster.empty)==True):\n",
    "        bowl_cluster = debu_bowl_cluster_data.loc[debu_bowl_cluster_data['bowler']==bowler]\n",
    "    #print(bowl_cluster)    \n",
    "    \n",
    "    #print(non_striker)\n",
    "    bat2_cluster = bat_cluster_data.loc[bat_cluster_data['batsman']==non_striker]\n",
    "    if((bat2_cluster.empty)==True):\n",
    "        bat2_cluster = debu_bat_cluster_data.loc[debu_bat_cluster_data['batsman']==non_striker]\n",
    "    #bat1_profile = array([bat1_cluster['bat_cluster'].item(),bat1_cluster['Avg'].item(),bat1_cluster['SR'].item()])\n",
    "    #print(bat2_cluster)\n",
    "    \n",
    "    \n",
    "    return array([bat1_cluster['bat_cluster'].item(),bat1_cluster['Avg'].item(),bat1_cluster['SR'].item(),bowl_cluster['bowl_cluster'].item(),bowl_cluster['Avg'].item(),bowl_cluster['SR'].item(),bowl_cluster['Econ'].item(),bat2_cluster['bat_cluster'].item(),bat2_cluster['Avg'].item(),bat2_cluster['SR'].item()])"
   ]
  },
  {
   "cell_type": "code",
   "execution_count": 41,
   "metadata": {},
   "outputs": [
    {
     "name": "stdout",
     "output_type": "stream",
     "text": [
      "1.0\n",
      "0.0\n"
     ]
    }
   ],
   "source": [
    "print(runModel.predict(get_cluster(T1_batsman[0],T2_bowler[1],T1_batsman[1])))\n",
    "print(wktsModel.predict(get_cluster(T1_batsman[0],T2_bowler[1],T1_batsman[1])))"
   ]
  },
  {
   "cell_type": "code",
   "execution_count": null,
   "metadata": {},
   "outputs": [],
   "source": []
  },
  {
   "cell_type": "code",
   "execution_count": null,
   "metadata": {},
   "outputs": [],
   "source": []
  },
  {
   "cell_type": "code",
   "execution_count": 42,
   "metadata": {},
   "outputs": [],
   "source": [
    "#check,pvp_data = pvp_profile(T1_batsman[1],T2_bowler[0])"
   ]
  },
  {
   "cell_type": "code",
   "execution_count": 43,
   "metadata": {},
   "outputs": [],
   "source": [
    "#print(pvp_data)"
   ]
  },
  {
   "cell_type": "code",
   "execution_count": null,
   "metadata": {},
   "outputs": [],
   "source": []
  },
  {
   "cell_type": "code",
   "execution_count": 44,
   "metadata": {},
   "outputs": [],
   "source": [
    "#cvc_data = cvc_profile(bat_cluster,bowl_cluster)"
   ]
  },
  {
   "cell_type": "code",
   "execution_count": 45,
   "metadata": {},
   "outputs": [],
   "source": [
    "#print(cvc_data)"
   ]
  },
  {
   "cell_type": "code",
   "execution_count": null,
   "metadata": {},
   "outputs": [],
   "source": []
  },
  {
   "cell_type": "code",
   "execution_count": 46,
   "metadata": {},
   "outputs": [],
   "source": [
    "\n",
    "def match(bat_order, bow_order,inn) :\n",
    "    tot_wickets = 0\n",
    "    striker = 1\n",
    "    non_striker = 0\n",
    "    striker_notout = 1\n",
    "    non_striker_notout = 1\n",
    "    bow_index_order = [0,1,0,1,2,4,3,2,3,4,2,3,4,1,3,4,0,2,0,1]#bowling order\n",
    "    x = bow_index_order[0]\n",
    "\n",
    "    total_runs = 0\n",
    "    k = -1\n",
    "    print(bat_order[non_striker].rstrip())\n",
    "    print(bat_order[striker].rstrip())\n",
    "    for i in range(0,120) :\n",
    "        # Swap batsmen and Change bowlers after every over\n",
    "        score_sheet = [0]*5\n",
    "        if i%6 == 0 :\n",
    "            k += 1\n",
    "            x = bow_index_order[k]\n",
    "\n",
    "            tmp_striker = striker\n",
    "            tmp_notout = striker_notout\n",
    "            striker = non_striker\n",
    "            striker_notout = non_striker_notout\n",
    "            non_striker = tmp_striker\n",
    "            non_striker_notout = tmp_notout\n",
    "\n",
    "        curr_bat = bat_order[striker].rstrip() #Striker\n",
    "        #print(curr_bat)\n",
    "        score_sheet[0] = curr_bat\n",
    "        other_bat = bat_order[non_striker].rstrip()# Non Striker\n",
    "        #print(other_bat)\n",
    "        score_sheet[1] = other_bat\n",
    "        curr_bow = bow_order[x].rstrip()\n",
    "        score_sheet[2] = curr_bow\n",
    "\n",
    "        #Prediction\n",
    "        \n",
    "        data = get_run_cluster(curr_bat,curr_bow,other_bat)\n",
    "        run_prediction = round(runModel.predict(data))\n",
    "        wkt_prediction = wktsModel.predict(data)\n",
    "        #if Out\n",
    "        if(wkt_prediction >0.15):\n",
    "            tot_wickets+=1\n",
    "            striker=max(striker,non_striker) + 1\n",
    "            score_sheet[4] = 1\n",
    "            print(bat_order[striker].rstrip())\n",
    "            striker_notout = 1\n",
    "\n",
    "        if striker > 10:\n",
    "            break\n",
    "            \n",
    "        elif run_prediction==0 or run_prediction==2 or run_prediction==4 or run_prediction==6:\n",
    "            total_runs+=run_prediction\n",
    "\n",
    "\n",
    "        elif run_prediction==1 or run_prediction==3:\n",
    "            total_runs+=run_prediction\n",
    "            tmp_striker = striker\n",
    "            tmp_notout = striker_notout\n",
    "            striker = non_striker\n",
    "            striker_notout = non_striker_notout\n",
    "            non_striker = tmp_striker\n",
    "            non_striker_notout = tmp_notout\n",
    "\n",
    "\n",
    "\n",
    "        if inn == 1 :\n",
    "            global first_inn_score\n",
    "            first_inn_score = total_runs\n",
    "\n",
    "        # If it is second innings and if the team has chased down the target\n",
    "        if inn == 2 and total_runs > first_inn_score :\n",
    "            break\n",
    "        #print(score_sheet) #UNCOMMENT TO PRINT BALL BY BALL STATS\n",
    "\n",
    "    num_of_overs_played = str(int((i+1)/6)) + \".\" + str((i+1)%6)\n",
    "    return total_runs, tot_wickets, str(total_runs)+\"/\"+str(tot_wickets)+\" Overs : \"+ num_of_overs_played\n"
   ]
  },
  {
   "cell_type": "code",
   "execution_count": 47,
   "metadata": {},
   "outputs": [
    {
     "name": "stdout",
     "output_type": "stream",
     "text": [
      "AM Rahane\n",
      "DJM Short\n",
      "SV Samson\n",
      "BA Stokes\n",
      "RA Tripathi\n",
      "Team 1 Score : 91/3 Overs : 20.0\n",
      "\n",
      "*****************************\n",
      "\n",
      "WP Saha\n",
      "S Dhawan\n",
      "KS Williamson\n",
      "MK Pandey\n",
      "DJ Hooda\n",
      "Team 2 Score : 94/3 Overs : 5.3\n",
      "Team 2 wins!\n",
      "By 7 wickets\n"
     ]
    }
   ],
   "source": [
    "first_innings_score, wickets1, formatted_score1 = match(T1_batsman, T2_bowler, 1)\n",
    "print (\"Team 1 Score : \" + formatted_score1)\n",
    "print(\"\\n*****************************\\n\")\n",
    "\n",
    "second_innings_score, wickets2, formatted_score2 = match(T2_batsman, T1_bowler, 2)\n",
    "print (\"Team 2 Score : \" + formatted_score2)\n",
    "\n",
    "if first_innings_score > second_innings_score :\n",
    "    print (\"Team 1 wins!\")\n",
    "    print (\"By \"+str(first_innings_score - second_innings_score)+\" runs\")\n",
    "elif second_innings_score > first_innings_score :\n",
    "    print (\"Team 2 wins!\")\n",
    "    print (\"By \"+ str(10 - wickets2) +\" wickets\")\n",
    "else :\n",
    "    print (\"Match Tied.\")"
   ]
  },
  {
   "cell_type": "code",
   "execution_count": null,
   "metadata": {},
   "outputs": [],
   "source": []
  },
  {
   "cell_type": "code",
   "execution_count": 35,
   "metadata": {},
   "outputs": [],
   "source": [
    "data = [0,2,3,26]"
   ]
  },
  {
   "cell_type": "code",
   "execution_count": null,
   "metadata": {},
   "outputs": [],
   "source": [
    "sameModel.predict(data)"
   ]
  },
  {
   "cell_type": "code",
   "execution_count": null,
   "metadata": {},
   "outputs": [],
   "source": []
  }
 ],
 "metadata": {
  "kernelspec": {
   "display_name": "Python 3",
   "language": "python",
   "name": "python3"
  },
  "language_info": {
   "codemirror_mode": {
    "name": "ipython",
    "version": 3
   },
   "file_extension": ".py",
   "mimetype": "text/x-python",
   "name": "python",
   "nbconvert_exporter": "python",
   "pygments_lexer": "ipython3",
   "version": "3.7.3"
  }
 },
 "nbformat": 4,
 "nbformat_minor": 2
}
