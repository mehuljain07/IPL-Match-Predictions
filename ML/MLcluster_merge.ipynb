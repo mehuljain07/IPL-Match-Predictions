{
 "cells": [
  {
   "cell_type": "code",
   "execution_count": 5,
   "metadata": {},
   "outputs": [
    {
     "data": {
      "text/html": [
       "<div>\n",
       "<style scoped>\n",
       "    .dataframe tbody tr th:only-of-type {\n",
       "        vertical-align: middle;\n",
       "    }\n",
       "\n",
       "    .dataframe tbody tr th {\n",
       "        vertical-align: top;\n",
       "    }\n",
       "\n",
       "    .dataframe thead th {\n",
       "        text-align: right;\n",
       "    }\n",
       "</style>\n",
       "<table border=\"1\" class=\"dataframe\">\n",
       "  <thead>\n",
       "    <tr style=\"text-align: right;\">\n",
       "      <th></th>\n",
       "      <th>bowler</th>\n",
       "      <th>Avg</th>\n",
       "      <th>SR</th>\n",
       "      <th>Econ</th>\n",
       "      <th>cluster</th>\n",
       "    </tr>\n",
       "  </thead>\n",
       "  <tbody>\n",
       "    <tr>\n",
       "      <th>0</th>\n",
       "      <td>IK Pathan</td>\n",
       "      <td>32.962500</td>\n",
       "      <td>24.662500</td>\n",
       "      <td>8.019260</td>\n",
       "      <td>2</td>\n",
       "    </tr>\n",
       "    <tr>\n",
       "      <th>1</th>\n",
       "      <td>A Nehra</td>\n",
       "      <td>23.311321</td>\n",
       "      <td>17.377358</td>\n",
       "      <td>8.048860</td>\n",
       "      <td>0</td>\n",
       "    </tr>\n",
       "    <tr>\n",
       "      <th>2</th>\n",
       "      <td>UT Yadav</td>\n",
       "      <td>29.439560</td>\n",
       "      <td>20.296703</td>\n",
       "      <td>8.702761</td>\n",
       "      <td>0</td>\n",
       "    </tr>\n",
       "    <tr>\n",
       "      <th>3</th>\n",
       "      <td>AD Russell</td>\n",
       "      <td>28.645161</td>\n",
       "      <td>19.741935</td>\n",
       "      <td>8.705882</td>\n",
       "      <td>0</td>\n",
       "    </tr>\n",
       "    <tr>\n",
       "      <th>4</th>\n",
       "      <td>S Nadeem</td>\n",
       "      <td>35.486486</td>\n",
       "      <td>29.540541</td>\n",
       "      <td>7.207685</td>\n",
       "      <td>6</td>\n",
       "    </tr>\n",
       "  </tbody>\n",
       "</table>\n",
       "</div>"
      ],
      "text/plain": [
       "       bowler        Avg         SR      Econ  cluster\n",
       "0   IK Pathan  32.962500  24.662500  8.019260        2\n",
       "1     A Nehra  23.311321  17.377358  8.048860        0\n",
       "2    UT Yadav  29.439560  20.296703  8.702761        0\n",
       "3  AD Russell  28.645161  19.741935  8.705882        0\n",
       "4    S Nadeem  35.486486  29.540541  7.207685        6"
      ]
     },
     "execution_count": 5,
     "metadata": {},
     "output_type": "execute_result"
    }
   ],
   "source": [
    "import pandas as pd\n",
    "\n",
    "df1 = pd.read_csv(\"MLball_profile.csv\",header = 0)\n",
    "df2 = pd.read_csv(\"MLbowler_cluster.csv\",header = 0)\n",
    "df5 = df1.merge(df2,on='bowler')\n",
    "df5.head()\n",
    "\n",
    "\n",
    "df5.columns = ['batsman','Avg','SR','Econ','bowl_cluster']\n",
    "\n",
    "df5.to_csv('MLbowl_p_c.csv',index = False)"
   ]
  },
  {
   "cell_type": "code",
   "execution_count": 4,
   "metadata": {},
   "outputs": [],
   "source": [
    "import pandas as pd\n",
    "\n",
    "df1 = pd.read_csv(\"debu_bowl.csv\",header = None)\n",
    "df2 = pd.read_csv(\"debu_ball_cluster.csv\",header = 0)\n",
    "df1.columns = ['bowler','Avg','SR','Econ']\n",
    "df5 = df1.merge(df2,on='bowler')\n",
    "df5.head()\n",
    "\n",
    "\n",
    "df5.columns = ['bowler','Avg','SR','Econ','bowl_cluster']\n",
    "\n",
    "df5.to_csv('MLdebu_bowl_p_c.csv',index = False)"
   ]
  },
  {
   "cell_type": "code",
   "execution_count": 6,
   "metadata": {},
   "outputs": [],
   "source": [
    "import pandas as pd\n",
    "\n",
    "df1 = pd.read_csv(\"debu_bat.csv\",header = None)\n",
    "df2 = pd.read_csv(\"debu_bat_cluster.csv\",header = 0)\n",
    "df1.columns = ['batsman','Avg','SR']\n",
    "df5 = df1.merge(df2,on='batsman')\n",
    "df5.head()\n",
    "\n",
    "\n",
    "#df5.columns = ['batsman','Avg','SR','Econ','bat_cluster']\n",
    "\n",
    "df5.to_csv('MLdebu_bat_p_c.csv',index = False)"
   ]
  },
  {
   "cell_type": "code",
   "execution_count": null,
   "metadata": {},
   "outputs": [],
   "source": []
  }
 ],
 "metadata": {
  "kernelspec": {
   "display_name": "Python 3",
   "language": "python",
   "name": "python3"
  },
  "language_info": {
   "codemirror_mode": {
    "name": "ipython",
    "version": 3
   },
   "file_extension": ".py",
   "mimetype": "text/x-python",
   "name": "python",
   "nbconvert_exporter": "python",
   "pygments_lexer": "ipython3",
   "version": "3.7.0"
  }
 },
 "nbformat": 4,
 "nbformat_minor": 2
}
