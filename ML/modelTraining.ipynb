{
 "cells": [
  {
   "cell_type": "code",
   "execution_count": 1,
   "metadata": {},
   "outputs": [],
   "source": [
    "from pyspark.mllib.tree import DecisionTree, DecisionTreeModel\n",
    "from pyspark import SparkContext\n",
    "from pyspark.mllib.regression import LabeledPoint\n",
    "from numpy import array\n"
   ]
  },
  {
   "cell_type": "code",
   "execution_count": 1,
   "metadata": {},
   "outputs": [
    {
     "ename": "NameError",
     "evalue": "name 'DecisionTree' is not defined",
     "output_type": "error",
     "traceback": [
      "\u001b[0;31m---------------------------------------------------------------------------\u001b[0m",
      "\u001b[0;31mNameError\u001b[0m                                 Traceback (most recent call last)",
      "\u001b[0;32m<ipython-input-1-4561170bafff>\u001b[0m in \u001b[0;36m<module>\u001b[0;34m()\u001b[0m\n\u001b[1;32m     29\u001b[0m \u001b[0;34m\u001b[0m\u001b[0m\n\u001b[1;32m     30\u001b[0m \u001b[0;31m#training Decision tree model\u001b[0m\u001b[0;34m\u001b[0m\u001b[0;34m\u001b[0m\u001b[0m\n\u001b[0;32m---> 31\u001b[0;31m \u001b[0mmodel\u001b[0m \u001b[0;34m=\u001b[0m \u001b[0mDecisionTree\u001b[0m\u001b[0;34m.\u001b[0m\u001b[0mtrainRegressor\u001b[0m\u001b[0;34m(\u001b[0m\u001b[0mdataPoints\u001b[0m\u001b[0;34m,\u001b[0m\u001b[0mcategoricalFeaturesInfo\u001b[0m\u001b[0;34m=\u001b[0m\u001b[0;34m{\u001b[0m\u001b[0;36m0\u001b[0m\u001b[0;34m:\u001b[0m\u001b[0;36m10\u001b[0m\u001b[0;34m,\u001b[0m\u001b[0;36m3\u001b[0m\u001b[0;34m:\u001b[0m\u001b[0;36m10\u001b[0m\u001b[0;34m,\u001b[0m\u001b[0;36m7\u001b[0m\u001b[0;34m:\u001b[0m\u001b[0;36m10\u001b[0m\u001b[0;34m}\u001b[0m\u001b[0;34m,\u001b[0m\u001b[0mimpurity\u001b[0m \u001b[0;34m=\u001b[0m \u001b[0;34m'variance'\u001b[0m\u001b[0;34m,\u001b[0m\u001b[0mmaxDepth\u001b[0m\u001b[0;34m=\u001b[0m\u001b[0;36m30\u001b[0m\u001b[0;34m,\u001b[0m\u001b[0mmaxBins\u001b[0m\u001b[0;34m=\u001b[0m\u001b[0;36m10\u001b[0m\u001b[0;34m)\u001b[0m\u001b[0;34m\u001b[0m\u001b[0m\n\u001b[0m\u001b[1;32m     32\u001b[0m \u001b[0;34m\u001b[0m\u001b[0m\n\u001b[1;32m     33\u001b[0m \u001b[0mpredictions\u001b[0m \u001b[0;34m=\u001b[0m \u001b[0mmodel\u001b[0m\u001b[0;34m.\u001b[0m\u001b[0mpredict\u001b[0m\u001b[0;34m(\u001b[0m\u001b[0mtestData\u001b[0m\u001b[0;34m)\u001b[0m\u001b[0;34m\u001b[0m\u001b[0m\n",
      "\u001b[0;31mNameError\u001b[0m: name 'DecisionTree' is not defined"
     ]
    }
   ],
   "source": [
    "\n",
    "rawData = sc.textFile(\"ML_mainData_new.csv\")\n",
    "header = rawData.first()\n",
    "data = rawData.filter(lambda l:l!= header).map(lambda line: line.split(\",\"))\n",
    "\n",
    "#bat1_cluster\tbat1_avg\tbat1_SR\tbowl_cluster\tbowl_avg\tbowl_SR\tbowl_Econ\tbat2_cluster\tbat2_avg\tbat2_SR\truns\n",
    "\n",
    "def parse(l):\n",
    "    label = int(l[10])\n",
    "    bat1_cluster = int(l[0])\n",
    "    bat1_avg = float(l[1])\n",
    "    bat1_SR = float(l[2])\n",
    "    bowl_cluster = int(l[3])\n",
    "    bowl_avg = float(l[4])\n",
    "    bowl_SR = float(l[5])\n",
    "    bowl_Econ = float(l[6])\n",
    "    bat2_cluster = int(l[7])\n",
    "    bat2_avg = float(l[8])\n",
    "    bat2_SR = float(l[9])\n",
    "    return LabeledPoint(label ,array([bat1_cluster,bat1_avg,bat1_SR,bowl_cluster,bowl_avg,bowl_SR,bowl_Econ,bat2_cluster,bat2_avg,bat2_SR]))\n",
    "\n",
    "\n",
    "# Split the data into training and test sets (30% held out for testing)\n",
    "(trainingData, testData) = data.randomSplit([0.70, 0.30])\n",
    "\n",
    "dataPoints = trainingData.map(parse)\n",
    "\n",
    "testDataPoints = testData.map(parse)\n",
    "\n",
    "#training Decision tree model\n",
    "model = DecisionTree.trainRegressor(dataPoints,categoricalFeaturesInfo={0:10,3:10,7:10},impurity = 'variance',maxDepth=30,maxBins=10)\n",
    "\n",
    "predictions = model.predict(testData)\n",
    "\n",
    "results = predictions.collect()\n",
    "#for i in results:\n",
    "#    if(i==4.0):\n",
    "#        print(i)\n",
    "\n",
    "#print(\"Classification Model:\")\n",
    "#print(model.toDebugString())"
   ]
  },
  {
   "cell_type": "code",
   "execution_count": null,
   "metadata": {},
   "outputs": [],
   "source": [
    "set(results)"
   ]
  },
  {
   "cell_type": "code",
   "execution_count": null,
   "metadata": {},
   "outputs": [],
   "source": [
    "print(\"Classification Model:\")\n",
    "print(model.toDebugString())"
   ]
  },
  {
   "cell_type": "code",
   "execution_count": null,
   "metadata": {},
   "outputs": [],
   "source": [
    "model.save(sc, \"run_regressor/tmp/myDecisionTreeClassificationModel\")"
   ]
  },
  {
   "cell_type": "code",
   "execution_count": null,
   "metadata": {},
   "outputs": [],
   "source": [
    "#sameModel = DecisionTreeModel.load(sc, \"target/tmp/myDecisionTreeClassificationModel\")\n",
    "#sameModel.predict(array[462,253,200])"
   ]
  },
  {
   "cell_type": "code",
   "execution_count": null,
   "metadata": {},
   "outputs": [],
   "source": [
    "#wickets model\n",
    "\n",
    "def parse1(l):\n",
    "    label = int(l[11])\n",
    "    bat1_cluster = int(l[0])\n",
    "    bat1_avg = float(l[1])\n",
    "    bat1_SR = float(l[2])\n",
    "    bowl_cluster = int(l[3])\n",
    "    bowl_avg = float(l[4])\n",
    "    bowl_SR = float(l[5])\n",
    "    bowl_Econ = float(l[6])\n",
    "    bat2_cluster = int(l[7])\n",
    "    bat2_avg = float(l[8])\n",
    "    bat2_SR = float(l[9])\n",
    "    return LabeledPoint(label ,array([bat1_cluster,bat1_avg,bat1_SR,bowl_cluster,bowl_avg,bowl_SR,bowl_Econ,bat2_cluster,bat2_avg,bat2_SR]))\n",
    "\n",
    "\n",
    "# Split the data into training and test sets (30% held out for testing)\n",
    "(trainingData, testData) = data.randomSplit([0.70, 0.30])\n",
    "\n",
    "dataPoints = trainingData.map(parse1)\n",
    "\n",
    "testDataPoints = testData.map(parse1)\n",
    "\n",
    "#training Decision tree model\n",
    "model = DecisionTree.trainRegressor(dataPoints,categoricalFeaturesInfo={0:10,3:10,7:10},impurity = 'variance',maxDepth=30,maxBins=10)\n",
    "\n",
    "predictions = model.predict(testData)\n",
    "\n",
    "results = predictions.collect()\n"
   ]
  },
  {
   "cell_type": "code",
   "execution_count": null,
   "metadata": {},
   "outputs": [],
   "source": [
    "set(results)"
   ]
  },
  {
   "cell_type": "code",
   "execution_count": 2,
   "metadata": {},
   "outputs": [
    {
     "ename": "NameError",
     "evalue": "name 'model' is not defined",
     "output_type": "error",
     "traceback": [
      "\u001b[0;31m---------------------------------------------------------------------------\u001b[0m",
      "\u001b[0;31mNameError\u001b[0m                                 Traceback (most recent call last)",
      "\u001b[0;32m<ipython-input-2-aedde8a8e6f4>\u001b[0m in \u001b[0;36m<module>\u001b[0;34m()\u001b[0m\n\u001b[0;32m----> 1\u001b[0;31m \u001b[0mmodel\u001b[0m\u001b[0;34m.\u001b[0m\u001b[0msave\u001b[0m\u001b[0;34m(\u001b[0m\u001b[0msc\u001b[0m\u001b[0;34m,\u001b[0m \u001b[0;34m\"wickets_regressor/tmp/myDecisionTreeClassificationModel\"\u001b[0m\u001b[0;34m)\u001b[0m\u001b[0;34m\u001b[0m\u001b[0m\n\u001b[0m",
      "\u001b[0;31mNameError\u001b[0m: name 'model' is not defined"
     ]
    }
   ],
   "source": [
    "model.save(sc, \"wickets_regressor/tmp/myDecisionTreeClassificationModel\")"
   ]
  },
  {
   "cell_type": "code",
   "execution_count": null,
   "metadata": {},
   "outputs": [],
   "source": []
  },
  {
   "cell_type": "code",
   "execution_count": null,
   "metadata": {},
   "outputs": [],
   "source": []
  }
 ],
 "metadata": {
  "kernelspec": {
   "display_name": "Python 3",
   "language": "python",
   "name": "python3"
  },
  "language_info": {
   "codemirror_mode": {
    "name": "ipython",
    "version": 3
   },
   "file_extension": ".py",
   "mimetype": "text/x-python",
   "name": "python",
   "nbconvert_exporter": "python",
   "pygments_lexer": "ipython3",
   "version": "3.7.0"
  }
 },
 "nbformat": 4,
 "nbformat_minor": 2
}
