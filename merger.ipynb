{
 "cells": [
  {
   "cell_type": "markdown",
   "metadata": {},
   "source": [
    "Bowler cluster data merge"
   ]
  },
  {
   "cell_type": "code",
   "execution_count": 1,
   "metadata": {},
   "outputs": [],
   "source": [
    "import pandas as pd\n",
    "import os\n",
    "\n",
    "df1 = pd.read_csv(\"/home/mehul/Downloads/New_BData/clustering/new_ball_clustering/file1.csv\",header = None)\n",
    "df2 = pd.read_csv(\"/home/mehul/Downloads/New_BData/clustering/new_ball_clustering/file2.csv\",header = None)\n",
    "\n",
    "\n",
    "df1.columns = ['bowler','cluster']\n",
    "df2.columns = ['bowler','cluster']\n",
    "\n",
    "\n",
    "\n",
    "df3 = df1.append(df2,ignore_index = True)\n",
    "\n",
    "#df4 = pd.read_csv(\"ipl.csv\")\n",
    "\n",
    "#df5 = df3.merge(df4,on='bowler')\n",
    "path = os.path.join('/home/mehul/Downloads/New_BData/cluster_merging/','bowler_cluster.csv')\n",
    "df3.to_csv(path,index = False)"
   ]
  },
  {
   "cell_type": "raw",
   "metadata": {},
   "source": [
    "Batsman cluster data merging"
   ]
  },
  {
   "cell_type": "code",
   "execution_count": 2,
   "metadata": {},
   "outputs": [],
   "source": [
    "import pandas as pd\n",
    "\n",
    "df1 = pd.read_csv(\"/home/mehul/Downloads/New_BData/clustering/new_bat_clustering/file1.csv\",header = None)\n",
    "df2 = pd.read_csv(\"/home/mehul/Downloads/New_BData/clustering/new_bat_clustering/file2.csv\",header = None)\n",
    "\n",
    "\n",
    "df1.columns = ['batsman','cluster']\n",
    "df2.columns = ['batsman','cluster']\n",
    "\n",
    "\n",
    "\n",
    "df3 = df1.append(df2,ignore_index = True)\n",
    "\n",
    "#df4 = pd.read_csv(\"ipl.csv\")\n",
    "\n",
    "#df5 = df3.merge(df4,on='bowler')\n",
    "\n",
    "df3.to_csv(\"/home/mehul/Downloads/New_BData/cluster_merging/batsman_cluster.csv\",index = False)"
   ]
  },
  {
   "cell_type": "code",
   "execution_count": 3,
   "metadata": {},
   "outputs": [],
   "source": [
    "df1 = pd.read_csv(\"/home/mehul/Downloads/New_BData/cluster_merging/batsman_cluster.csv\",header = 0)\n",
    "df2 = pd.read_csv(\"/home/mehul/Downloads/New_BData/cluster_merging/bowler_cluster.csv\",header = 0)\n",
    "\n",
    "df4 = pd.read_csv(\"ipl.csv\")\n",
    "\n",
    "df5 = df1.merge(df4,on='batsman')\n",
    "\n",
    "df6 = df2.merge(df5,on='bowler')"
   ]
  },
  {
   "cell_type": "code",
   "execution_count": 4,
   "metadata": {},
   "outputs": [],
   "source": [
    "df6.to_csv(\"/home/mehul/Downloads/New_BData/cluster_merging/pvp_cluster.csv\",index = False)"
   ]
  },
  {
   "cell_type": "code",
   "execution_count": 5,
   "metadata": {},
   "outputs": [],
   "source": [
    "import pandas as pd\n",
    "\n",
    "df3 = pd.read_csv(\"/home/mehul/Downloads/New_BData/clustering/debu_bat_cluster/file1.csv\",header = None)\n",
    "df4 = pd.read_csv(\"/home/mehul/Downloads/New_BData/clustering/debu_bat_cluster/file2.csv\",header = None)\n",
    "\n",
    "\n",
    "df3.columns = ['batsman','cluster']\n",
    "df4.columns = ['batsman','cluster']\n",
    "\n",
    "\n",
    "\n",
    "df5 = df3.append(df4,ignore_index = True)\n",
    "\n",
    "#df4 = pd.read_csv(\"ipl.csv\")\n",
    "\n",
    "#df5 = df3.merge(df4,on='bowler')\n",
    "\n",
    "df5.to_csv(\"/home/mehul/Downloads/New_BData/cluster_merging/debu_bat_cluster.csv\",index = False)"
   ]
  },
  {
   "cell_type": "code",
   "execution_count": 6,
   "metadata": {},
   "outputs": [],
   "source": [
    "import pandas as pd\n",
    "\n",
    "df3 = pd.read_csv(\"/home/mehul/Downloads/New_BData/clustering/debu_bowl_cluster/file1.csv\",header = None)\n",
    "df4 = pd.read_csv(\"/home/mehul/Downloads/New_BData/clustering/debu_bowl_cluster/file2.csv\",header = None)\n",
    "\n",
    "\n",
    "df3.columns = ['batsman','cluster']\n",
    "df4.columns = ['batsman','cluster']\n",
    "\n",
    "\n",
    "\n",
    "df5 = df3.append(df4,ignore_index = True)\n",
    "\n",
    "#df4 = pd.read_csv(\"ipl.csv\")\n",
    "\n",
    "#df5 = df3.merge(df4,on='bowler')\n",
    "\n",
    "df5.to_csv(\"/home/mehul/Downloads/New_BData/cluster_merging/debu_bowl_cluster.csv\",index = False)"
   ]
  },
  {
   "cell_type": "code",
   "execution_count": 7,
   "metadata": {},
   "outputs": [],
   "source": [
    "import pandas as pd\n",
    "\n",
    "df3 = pd.read_csv(\"/home/mehul/Downloads/New_BData/cluster_merging/debu_bat_cluster.csv\",header = 0)\n",
    "df4 = pd.read_csv(\"/home/mehul/Downloads/New_BData/cluster_merging/batsman_cluster.csv\",header = 0)\n",
    "\n",
    "df5 = df4.append(df3,ignore_index = True)\n",
    "\n",
    "#df4 = pd.read_csv(\"ipl.csv\")\n",
    "\n",
    "#df5 = df3.merge(df4,on='bowler')\n",
    "\n",
    "df5.to_csv(\"/home/mehul/Downloads/New_BData/predict/batsman_cluster_final.csv\",index = False)"
   ]
  },
  {
   "cell_type": "code",
   "execution_count": 8,
   "metadata": {},
   "outputs": [],
   "source": [
    "import pandas as pd\n",
    "\n",
    "df3 = pd.read_csv(\"/home/mehul/Downloads/New_BData/cluster_merging/debu_ball_cluster.csv\",header = 0)\n",
    "df4 = pd.read_csv(\"/home/mehul/Downloads/New_BData/cluster_merging/bowler_cluster.csv\",header = 0)\n",
    "\n",
    "df5 = df4.append(df3,ignore_index = True)\n",
    "\n",
    "#df4 = pd.read_csv(\"ipl.csv\")\n",
    "\n",
    "#df5 = df3.merge(df4,on='bowler')\n",
    "\n",
    "df5.to_csv(\"/home/mehul/Downloads/New_BData/predict/bowler_cluster_final.csv\",index = False)"
   ]
  },
  {
   "cell_type": "code",
   "execution_count": null,
   "metadata": {},
   "outputs": [],
   "source": []
  }
 ],
 "metadata": {
  "kernelspec": {
   "display_name": "Python 3",
   "language": "python",
   "name": "python3"
  },
  "language_info": {
   "codemirror_mode": {
    "name": "ipython",
    "version": 3
   },
   "file_extension": ".py",
   "mimetype": "text/x-python",
   "name": "python",
   "nbconvert_exporter": "python",
   "pygments_lexer": "ipython3",
   "version": "3.7.0"
  }
 },
 "nbformat": 4,
 "nbformat_minor": 2
}
