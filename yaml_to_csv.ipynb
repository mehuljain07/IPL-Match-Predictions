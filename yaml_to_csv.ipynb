{
 "cells": [
  {
   "cell_type": "code",
   "execution_count": 2,
   "metadata": {},
   "outputs": [],
   "source": [
    "import csv\n",
    "import yaml\n",
    "import glob\n",
    "import os\n",
    "#filenum = 0\n",
    "tot_dict = {}\n",
    "runner = ['batsman','bowler',0,1,2,3,4,5,6,'wickets','balls']\n",
    "for filename in glob.glob('/home/mehul/Downloads/New_BData/profiles/ipl/*.yaml'):\n",
    " #   filenum = filenum+1\n",
    "    myDict = yaml.load(open(filename))\n",
    "    newDict = myDict[\"innings\"]\n",
    "    for inning in range(len(newDict)):\n",
    "        new=newDict[inning]\n",
    "        for inn_key in new:\n",
    "            deliver = new[inn_key]\n",
    "        deliveries = deliver['deliveries']\n",
    "        for i in deliveries[:]:\n",
    "                  for key in i:\n",
    "                    main_key = i[key]['batsman']+\" \"+i[key]['bowler']\n",
    "                    score_sheet = {}\n",
    "                    if(main_key in tot_dict.keys()):\n",
    "                        score_sheet = tot_dict[main_key]\n",
    "                    else:\n",
    "                        score_sheet = {key:0 for key in runner}\n",
    "                        score_sheet['batsman'] = i[key]['batsman']\n",
    "                        score_sheet['bowler'] = i[key]['bowler']\n",
    "                    if 'wicket' in i[key]:\n",
    "                        if(i[key]['wicket']['kind'] != \"run out\"):\n",
    "                            score_sheet['wickets'] = score_sheet['wickets']+1\n",
    "                            score_sheet['balls'] = score_sheet['balls']+1\n",
    "                    if 'extras' in i[key]:\n",
    "                            #no ball or wide ball\n",
    "                            continue\n",
    "                    else:\n",
    "                        score_sheet[i[key]['runs']['batsman']] = score_sheet[i[key]['runs']['batsman']] + 1\n",
    "                        score_sheet['balls'] = score_sheet['balls']+1\n",
    "                    tot_dict[main_key] = score_sheet\n",
    "\n",
    "with open('ipl.csv','w') as f:\n",
    "    w =csv.DictWriter(f,runner,delimiter = ',',lineterminator = '\\n')\n",
    "    w.writeheader()\n",
    "    for key in tot_dict:\n",
    "        w.writerow(tot_dict[key])\n",
    "#print(str(filenum))\n"
   ]
  },
  {
   "cell_type": "code",
   "execution_count": 12,
   "metadata": {},
   "outputs": [],
   "source": []
  },
  {
   "cell_type": "code",
   "execution_count": 13,
   "metadata": {},
   "outputs": [],
   "source": [
    "\n"
   ]
  },
  {
   "cell_type": "code",
   "execution_count": 8,
   "metadata": {},
   "outputs": [],
   "source": []
  },
  {
   "cell_type": "code",
   "execution_count": null,
   "metadata": {},
   "outputs": [],
   "source": []
  }
 ],
 "metadata": {
  "kernelspec": {
   "display_name": "Python 3",
   "language": "python",
   "name": "python3"
  },
  "language_info": {
   "codemirror_mode": {
    "name": "ipython",
    "version": 3
   },
   "file_extension": ".py",
   "mimetype": "text/x-python",
   "name": "python",
   "nbconvert_exporter": "python",
   "pygments_lexer": "ipython3",
   "version": "3.7.0"
  }
 },
 "nbformat": 4,
 "nbformat_minor": 2
}
