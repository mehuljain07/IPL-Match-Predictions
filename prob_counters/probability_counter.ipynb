{
 "cells": [
  {
   "cell_type": "markdown",
   "metadata": {},
   "source": [
    "pvp_Prob_counter"
   ]
  },
  {
   "cell_type": "code",
   "execution_count": null,
   "metadata": {},
   "outputs": [],
   "source": [
    "import pandas as pd\n",
    "import csv\n",
    "data = pd.read_csv(\"/home/mehul/Downloads/New_BData/ipl.csv\",header = 0)\n",
    "headers = ['batsman','bowler','0s','1s','2s','3s','4s','5s','6s','wickets','balls']\n",
    "data.columns = headers\n",
    "for i in range(2,len(headers)-1):\n",
    "    data[headers[i]] = data[headers[i]]/data['balls']\n",
    "    \n",
    "del data['balls']\n",
    "\n",
    "data.to_csv(\"home/mehul/Downloads/New_BData/predict/pvpProb.csv\",index = False)"
   ]
  },
  {
   "cell_type": "markdown",
   "metadata": {},
   "source": [
    "CvC_prob_counter"
   ]
  },
  {
   "cell_type": "code",
   "execution_count": 4,
   "metadata": {},
   "outputs": [],
   "source": [
    "import pandas as pd\n",
    "data = pd.read_csv(\"CvCstat.csv\",header = None)#HADOOP OUTPUT FILE RENAMED CvCstat\n",
    "headers = ['bat_cluster','bowl_cluster','0s','1s','2s','3s','4s','5s','6s','wickets','balls']\n",
    "data.columns = headers\n",
    "for i in range(2,len(headers)-1):\n",
    "    data[headers[i]] = data[headers[i]]/data['balls']\n"
   ]
  },
  {
   "cell_type": "code",
   "execution_count": 5,
   "metadata": {},
   "outputs": [],
   "source": [
    "del data['balls']"
   ]
  },
  {
   "cell_type": "code",
   "execution_count": 7,
   "metadata": {},
   "outputs": [],
   "source": [
    "import csv\n",
    "data.to_csv(\"/home/mehul/Downloads/New_BData/predict/CvCprob.csv\",index = False)"
   ]
  },
  {
   "cell_type": "code",
   "execution_count": null,
   "metadata": {},
   "outputs": [],
   "source": []
  }
 ],
 "metadata": {
  "kernelspec": {
   "display_name": "Python 3",
   "language": "python",
   "name": "python3"
  },
  "language_info": {
   "codemirror_mode": {
    "name": "ipython",
    "version": 3
   },
   "file_extension": ".py",
   "mimetype": "text/x-python",
   "name": "python",
   "nbconvert_exporter": "python",
   "pygments_lexer": "ipython3",
   "version": "3.7.0"
  }
 },
 "nbformat": 4,
 "nbformat_minor": 2
}
