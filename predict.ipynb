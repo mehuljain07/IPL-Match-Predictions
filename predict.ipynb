{
 "cells": [
  {
   "cell_type": "code",
   "execution_count": 1,
   "metadata": {},
   "outputs": [],
   "source": [
    "import pandas as pd\n",
    "import random\n",
    "import csv\n",
    "\n",
    "match_data = pd.read_csv(\"/home/mehul/Downloads/New_BData/matches/match2.csv\")"
   ]
  },
  {
   "cell_type": "code",
   "execution_count": 2,
   "metadata": {},
   "outputs": [
    {
     "data": {
      "text/html": [
       "<div>\n",
       "<style scoped>\n",
       "    .dataframe tbody tr th:only-of-type {\n",
       "        vertical-align: middle;\n",
       "    }\n",
       "\n",
       "    .dataframe tbody tr th {\n",
       "        vertical-align: top;\n",
       "    }\n",
       "\n",
       "    .dataframe thead th {\n",
       "        text-align: right;\n",
       "    }\n",
       "</style>\n",
       "<table border=\"1\" class=\"dataframe\">\n",
       "  <thead>\n",
       "    <tr style=\"text-align: right;\">\n",
       "      <th></th>\n",
       "      <th>T1 batsman</th>\n",
       "      <th>T2 bowler</th>\n",
       "      <th>T2 batsman</th>\n",
       "      <th>T1 bowler</th>\n",
       "    </tr>\n",
       "  </thead>\n",
       "  <tbody>\n",
       "    <tr>\n",
       "      <th>0</th>\n",
       "      <td>C Munro</td>\n",
       "      <td>R Ashwin</td>\n",
       "      <td>KL Rahul</td>\n",
       "      <td>TA Boult</td>\n",
       "    </tr>\n",
       "    <tr>\n",
       "      <th>1</th>\n",
       "      <td>G Gambhir</td>\n",
       "      <td>MM Sharma</td>\n",
       "      <td>MA Agarwal</td>\n",
       "      <td>Mohammed Shami</td>\n",
       "    </tr>\n",
       "    <tr>\n",
       "      <th>2</th>\n",
       "      <td>SS Iyer</td>\n",
       "      <td>Mujeeb Ur Rahman</td>\n",
       "      <td>Yuvraj Singh</td>\n",
       "      <td>A Mishra</td>\n",
       "    </tr>\n",
       "    <tr>\n",
       "      <th>3</th>\n",
       "      <td>V Shankar</td>\n",
       "      <td>AR Patel</td>\n",
       "      <td>KK Nair</td>\n",
       "      <td>CH Morris</td>\n",
       "    </tr>\n",
       "    <tr>\n",
       "      <th>4</th>\n",
       "      <td>RR Pant</td>\n",
       "      <td>AJ Tye</td>\n",
       "      <td>DA Miller</td>\n",
       "      <td>DT Christian</td>\n",
       "    </tr>\n",
       "  </tbody>\n",
       "</table>\n",
       "</div>"
      ],
      "text/plain": [
       "  T1 batsman         T2 bowler    T2 batsman       T1 bowler\n",
       "0    C Munro          R Ashwin      KL Rahul        TA Boult\n",
       "1  G Gambhir         MM Sharma    MA Agarwal  Mohammed Shami\n",
       "2    SS Iyer  Mujeeb Ur Rahman  Yuvraj Singh        A Mishra\n",
       "3  V Shankar          AR Patel       KK Nair       CH Morris\n",
       "4    RR Pant            AJ Tye     DA Miller    DT Christian"
      ]
     },
     "execution_count": 2,
     "metadata": {},
     "output_type": "execute_result"
    }
   ],
   "source": [
    "match_data.head()"
   ]
  },
  {
   "cell_type": "code",
   "execution_count": 3,
   "metadata": {},
   "outputs": [],
   "source": [
    "T1_batsman = match_data['T1 batsman']\n",
    "T1_bowler = match_data['T1 bowler']\n",
    "T2_batsman = match_data['T2 batsman']\n",
    "T2_bowler = match_data['T2 bowler']\n"
   ]
  },
  {
   "cell_type": "code",
   "execution_count": 4,
   "metadata": {},
   "outputs": [],
   "source": [
    "score_list = [0, 1, 2, 3, 4, 6]"
   ]
  },
  {
   "cell_type": "code",
   "execution_count": 5,
   "metadata": {},
   "outputs": [],
   "source": [
    "def get_cluster(batsman,bowler):\n",
    "    bat_cluster_data = pd.read_csv(\"/home/mehul/Downloads/New_BData/predict/batsman_cluster_final.csv\",header = 0).drop_duplicates()\n",
    "    bowl_cluster_data = pd.read_csv(\"/home/mehul/Downloads/New_BData/predict/bowler_cluster_final.csv\",header = 0).drop_duplicates()\n",
    "    \n",
    "    bat_cluster = bat_cluster_data.loc[bat_cluster_data['batsman']==batsman]\n",
    "    bowl_cluster = bowl_cluster_data.loc[bowl_cluster_data['bowler']==bowler]\n",
    "    #print(bowl_cluster)\n",
    "    return bat_cluster['cluster'].item(),bowl_cluster['cluster'].item()"
   ]
  },
  {
   "cell_type": "code",
   "execution_count": 6,
   "metadata": {},
   "outputs": [
    {
     "data": {
      "text/plain": [
       "(9, 0)"
      ]
     },
     "execution_count": 6,
     "metadata": {},
     "output_type": "execute_result"
    }
   ],
   "source": [
    "get_cluster(T1_batsman[5],T2_bowler[1])"
   ]
  },
  {
   "cell_type": "code",
   "execution_count": null,
   "metadata": {},
   "outputs": [],
   "source": []
  },
  {
   "cell_type": "code",
   "execution_count": 7,
   "metadata": {},
   "outputs": [],
   "source": [
    "def pvp_profile(batsman,bowler):\n",
    "    pvpData = pd.read_csv(\"/home/mehul/Downloads/New_BData/predict/pvpProb.csv\",header = 0)\n",
    "    data = pvpData[(pvpData.batsman == batsman)&(pvpData.bowler == bowler)]\n",
    "    flag = True\n",
    "    if data.empty:\n",
    "        flag = False\n",
    "        #print(\"dataFrame empty\")\n",
    "        return flag,None\n",
    "    else:\n",
    "        a = data.iloc[:,2:10].values.tolist()\n",
    "        return flag,a[0]"
   ]
  },
  {
   "cell_type": "code",
   "execution_count": 8,
   "metadata": {},
   "outputs": [],
   "source": [
    "#check,pvp_data = pvp_profile(T1_batsman[1],T2_bowler[0])"
   ]
  },
  {
   "cell_type": "code",
   "execution_count": 9,
   "metadata": {},
   "outputs": [],
   "source": [
    "#print(pvp_data)"
   ]
  },
  {
   "cell_type": "code",
   "execution_count": 10,
   "metadata": {},
   "outputs": [],
   "source": [
    "def cvc_profile(bat_cluster,bowl_cluster):\n",
    "    cvcData = pd.read_csv(\"/home/mehul/Downloads/New_BData/predict/CvCprob.csv\",header = 0)\n",
    "    data = cvcData[(cvcData.bat_cluster== bat_cluster)&(cvcData.bowl_cluster == bowl_cluster)]\n",
    "    if data.empty:\n",
    "        #print(\"dataFrame empty\")\n",
    "        return None\n",
    "    else:\n",
    "        a = data.iloc[:,2:10].values.tolist()\n",
    "        return a[0]"
   ]
  },
  {
   "cell_type": "code",
   "execution_count": 11,
   "metadata": {},
   "outputs": [],
   "source": [
    "#cvc_data = cvc_profile(bat_cluster,bowl_cluster)"
   ]
  },
  {
   "cell_type": "code",
   "execution_count": 12,
   "metadata": {},
   "outputs": [],
   "source": [
    "#print(cvc_data)"
   ]
  },
  {
   "cell_type": "code",
   "execution_count": 13,
   "metadata": {},
   "outputs": [],
   "source": [
    "def random_pick(some_list, probabilities) :\n",
    "\n",
    "    #print(len(probabilities))\n",
    "    del(probabilities[5])\n",
    "    del(probabilities[-1])\n",
    "    x = random.uniform(0,sum(probabilities))\n",
    "    cumulative_probability = 0.0\n",
    "    for item, item_probability in zip(some_list, probabilities):\n",
    "        cumulative_probability += item_probability\n",
    "        if x < cumulative_probability: break\n",
    "    return item"
   ]
  },
  {
   "cell_type": "code",
   "execution_count": 14,
   "metadata": {},
   "outputs": [],
   "source": [
    "\n",
    "def match(bat_order, bow_order, inn) :\n",
    "    tot_wickets = 0\n",
    "    striker = 1\n",
    "    non_striker = 0\n",
    "    striker_notout = 1\n",
    "    non_striker_notout = 1\n",
    "    \n",
    "\n",
    "    bow_index_order = [0,1,0,1,2,4,3,2,3,4,2,3,4,1,3,4,0,2,0,1]#bowling order\n",
    "    x = bow_index_order[0]\n",
    "\n",
    "    total_runs = 0\n",
    "    k = -1\n",
    "    print(bat_order[non_striker].rstrip())\n",
    "    print(bat_order[striker].rstrip())\n",
    "    for i in range(0,120) :\n",
    "        # Swap batsmen and Change bowlers after every over\n",
    "        score_sheet = [0]*5\n",
    "        if i%6 == 0 :\n",
    "            k += 1\n",
    "            x = bow_index_order[k]\n",
    "\n",
    "            tmp_striker = striker\n",
    "            tmp_notout = striker_notout\n",
    "            striker = non_striker\n",
    "            striker_notout = non_striker_notout\n",
    "            non_striker = tmp_striker\n",
    "            non_striker_notout = tmp_notout\n",
    "\n",
    "        curr_bat = bat_order[striker].rstrip() #Striker\n",
    "        #print(curr_bat)\n",
    "        score_sheet[0] = curr_bat\n",
    "        other_bat = bat_order[non_striker].rstrip()# Non Striker\n",
    "        #print(other_bat)\n",
    "        score_sheet[1] = other_bat\n",
    "        curr_bow = bow_order[x].rstrip()\n",
    "        score_sheet[2] = curr_bow\n",
    "\n",
    "        #Prediction\n",
    "        flag,pvp_p_list = pvp_profile(curr_bat, curr_bow)\n",
    "        if (flag == True) :\n",
    "            striker_notout *= float(1 - (pvp_p_list[7]))\n",
    "            prediction = random_pick(score_list, pvp_p_list)\n",
    "            #print(pvp_p_list[7])\n",
    "            #m_notout *= float(1 - (pvp_p_list[7]))\n",
    "        else :\n",
    "            #print(curr_bow)\n",
    "            bat_c_num, bow_c_num = get_cluster(curr_bat, curr_bow)\n",
    "            cvc_p_list = cvc_profile(bat_c_num, bow_c_num)\n",
    "            striker_notout *= float(1 - (cvc_p_list[7]))\n",
    "            prediction = random_pick(score_list, cvc_p_list)\n",
    "            score_sheet[3] = prediction\n",
    "            #print(cvc_p_list[7])\n",
    "            #m_notout *= float(1 - (cvc_p_list[7]))\n",
    "\n",
    "        #If out\n",
    "        if striker_notout<0.4 :\n",
    "            tot_wickets+=1\n",
    "            striker=max(striker,non_striker) + 1\n",
    "            score_sheet[4] = 1\n",
    "            print(bat_order[striker].rstrip())\n",
    "            striker_notout = 1\n",
    "\n",
    "        if striker > 10:\n",
    "            break\n",
    "\n",
    "        elif prediction==0 or prediction==2 or prediction==4 or prediction==6:\n",
    "            total_runs+=prediction\n",
    "\n",
    "\n",
    "        elif prediction==1 or prediction==3:\n",
    "            total_runs+=prediction\n",
    "            tmp_striker = striker\n",
    "            tmp_notout = striker_notout\n",
    "            striker = non_striker\n",
    "            striker_notout = non_striker_notout\n",
    "            non_striker = tmp_striker\n",
    "            non_striker_notout = tmp_notout\n",
    "\n",
    "\n",
    "\n",
    "        if inn == 1 :\n",
    "            global first_inn_score\n",
    "            first_inn_score = total_runs\n",
    "\n",
    "        # If it is second innings and if the team has chased down the target\n",
    "        if inn == 2 and total_runs > first_inn_score :\n",
    "            break\n",
    "        #print(score_sheet) #UNCOMMENT TO PRINT BALL BY BALL STATS\n",
    "\n",
    "    num_of_overs_played = str(int((i+1)/6)) + \".\" + str((i+1)%6)\n",
    "    return total_runs, tot_wickets, str(total_runs)+\"/\"+str(tot_wickets)+\" Overs : \"+ num_of_overs_played\n"
   ]
  },
  {
   "cell_type": "code",
   "execution_count": 15,
   "metadata": {},
   "outputs": [
    {
     "name": "stdout",
     "output_type": "stream",
     "text": [
      "C Munro\n",
      "G Gambhir\n",
      "SS Iyer\n",
      "V Shankar\n",
      "RR Pant\n",
      "R Tewatia\n",
      "Team 1 Score : 133/4 Overs : 20.0\n",
      "\n",
      "*****************************\n",
      "\n",
      "KL Rahul\n",
      "MA Agarwal\n",
      "Yuvraj Singh\n",
      "KK Nair\n",
      "Team 2 Score : 134/2 Overs : 13.4\n",
      "Team 2 wins!\n",
      "By 8 wickets\n"
     ]
    }
   ],
   "source": [
    "first_innings_score, wickets1, formatted_score1 = match(T1_batsman, T2_bowler, 1)\n",
    "print (\"Team 1 Score : \" + formatted_score1)\n",
    "print(\"\\n*****************************\\n\")\n",
    "\n",
    "second_innings_score, wickets2, formatted_score2 = match(T2_batsman, T1_bowler, 2)\n",
    "print (\"Team 2 Score : \" + formatted_score2)\n",
    "\n",
    "if first_innings_score > second_innings_score :\n",
    "    print (\"Team 1 wins!\")\n",
    "    print (\"By \"+str(first_innings_score - second_innings_score)+\" runs\")\n",
    "elif second_innings_score > first_innings_score :\n",
    "    print (\"Team 2 wins!\")\n",
    "    print (\"By \"+ str(10 - wickets2) +\" wickets\")\n",
    "else :\n",
    "    print (\"Match Tied.\")"
   ]
  },
  {
   "cell_type": "code",
   "execution_count": null,
   "metadata": {},
   "outputs": [],
   "source": []
  }
 ],
 "metadata": {
  "kernelspec": {
   "display_name": "Python 3",
   "language": "python",
   "name": "python3"
  },
  "language_info": {
   "codemirror_mode": {
    "name": "ipython",
    "version": 3
   },
   "file_extension": ".py",
   "mimetype": "text/x-python",
   "name": "python",
   "nbconvert_exporter": "python",
   "pygments_lexer": "ipython3",
   "version": "3.7.0"
  }
 },
 "nbformat": 4,
 "nbformat_minor": 2
}
